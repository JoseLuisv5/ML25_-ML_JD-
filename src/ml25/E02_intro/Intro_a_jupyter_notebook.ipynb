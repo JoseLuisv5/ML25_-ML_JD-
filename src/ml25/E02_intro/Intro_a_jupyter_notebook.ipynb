{
  "cells": [
    {
      "attachments": {},
      "cell_type": "markdown",
      "metadata": {
        "id": "CuQrgeE5Ml2E"
      },
      "source": [
        "# Introducción a Jupyter Notebook\n",
        "1. Primeros pasos (TODO)\n",
        "2. Entregas de ejercicios\n",
        "2. Orden de ejecución (TODO)\n",
        "3. Introducción a Python (TODO)\n",
        "4. Graficar \n",
        "\n",
        "Nota: Las secciones con la palabra TODO requieren acciones por parte del alumno\n",
        "\n",
        "# 1. Primeros pasos\n",
        "\n",
        "Un \"notebook\" está organizado en celdas. Existen dos tipos principales:\n",
        "1.  Celdas de código\n",
        "2.  Celdas de texto (por ejemplo esta)\n",
        "\n",
        "Cada celda se puede correr por separado y en cualquier orden que quieras. Para correr una celda necesitas activarla (por ejemplo haciendo click en ella). Las celdas de markdown pueden mostrar texto en *itálicas*(`*italica*`), **negritas**(`**italica**`) etc. Incluso permiten la notación matemática en  [$\\LaTeX$](https://www.overleaf.com/learn/latex/Mathematical_expressions):  \n",
        "\n",
        "$v = \\begin{bmatrix} 1  \\\\ 0 \n",
        "      \\end{bmatrix}$\n",
        "\n",
        "\n",
        "Practica transformar la siguiente fórmula de imagen a una fórmula de LaTeX en la siguiente celda.\n",
        "\n",
        "![images.png](data:image/png;base64,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)"
      ]
    },
    {
      "cell_type": "markdown",
      "metadata": {
        "id": "F-Y-5-uLPjm5"
      },
      "source": [
        "##**TODO: Escribe la formula anterior usando LaTeX.**\n",
        "---\n"
      ]
    },
    {
      "attachments": {},
      "cell_type": "markdown",
      "metadata": {
        "id": "OjOcKJZJalq4"
      },
      "source": [
        "# 2. Indicaciones para entrega de ejercicios\n",
        "Resuelve los ejercicios agregando código donde encuentres la indicación `#TODO`\n",
        "\n",
        "Cada función que escribas deberá correr sin error. Para la evaluación del ejercicio correré el cuarderno utilizando la opción `Restart and run all` para evaluarte. Obtendras los puntos completos si las celdas corren sin problemas y funciona correctamente.\n",
        "\n",
        "## Ejercicios y proyectos:\n",
        "Durante el curso existiran dos tipos de notebooks.\n",
        "Los notebooks tipo ejercicio tendrán la clave E, cuyo objetivo es comprobar los conocimientos teóricos cubiertos en clase.\n",
        "El siguiente tipo serán los proyectos (clave P), los cuales buscarán que sean capaces de tomar decisiones de diseño y serán incluidos en el portafolio final. A mas tardar una semana después de la entrega de estos proyectos tendrán que estar documentados en su portafolio. Se revisarán los avances a lo largo del curso.\n",
        "\n",
        "\n",
        "El procedimiento para entregar los proyectos y ejercicios será el siguiente:\n",
        "1. Por equipo, crearán un repositorio de github privado con el nombre \"ML23_[nombre_de_equipo]\" donde subirán los proyectos como **jupyter notebook** en carpetas indicadas como \"ejercicio 1\", \"proyecto 1\", \"proyecto 2\" ... \"ejercicio n\". Me agregarán como colaborador al proyecto para poder visualizar las actividades. \n",
        "2. Crearé un link de registro en forms para que den de alta su equipo, integrantes, y repositorio.\n",
        "3. Cada semana subiré un ejercicio nuevo a blackboard como un zip con el contenido requerido para completar la actividad. Copiarán el contenido a su repositorio de github *donde resolverán el ejercicio.*\n",
        "4. Revisaré la solución de github en la fecha indicada y recibirán su calificación en blackboard.\n",
        "\n",
        "Conforme avancemos en la clase, moveremos los proyectos fuera de google colab y tendran que usar archivos de python regulares. Para esto les recomiendo el uso de [anaconda](https://www.anaconda.com/products/distribution) para administrar sus ambientes. Por lo anterior es importante que se familiaricen con github, pero no se preocupen!! durante el curso veremos mas al respecto.\n",
        "\n",
        "## Notas generales:\n",
        "* Cada semana subiré un ejercicio nuevo a blackboard como enlace al google colab correspondiente.\n",
        "* Los ejercicios tienen tiempo de entrega de 1 semana, los proyectos pueden ser de 1 o 2 semanas.\n",
        "* A pesar de que más de una persona puede acceder a colab al mismo tiempo, el manejo de versión es dificl de rastrear. Por lo anterior, les recomiendo realicen todo su trabajo en github. De esta manera, pueden manejar diferentes versiones de su trabajo y es menos probable que lo pierdan completamente."
      ]
    },
    {
      "cell_type": "markdown",
      "metadata": {
        "id": "eb1jhPvtPIfi"
      },
      "source": [
        "# 3. Ejecutrar celdas de código\n",
        "Para ejecutar una celda activa puedes:\n",
        "*   Hacer click en el boton de correr (flecha) en la izquierda de la celda\n",
        "*   Hacer `CTRL+Enter`\n",
        "\n",
        "El resultado de cada celda se muestra debajo de la misma. El número a la izquierda de la celda muestra en que orden se han corrido las celdas. Si la celda muestra `[*]`, significa que la celda está corriendo actualmente.\n",
        "\n",
        "Puedes ejecutar las celdas en *cualquier orden*. No necesariamente tiene que ser de arriba hacia abajo. Esto significa que el orden en el cual corres las celdas afecta tus variables. Considera que esto puede causar problemas durante el desarrollo.\n",
        "\n",
        "**Sin embargo, tus notebook deberán correr correctamente ejecutándose de principio a fin**\n",
        "\n",
        "Para esto puedes ir a `Runtime-> Restart and run all...`\n",
        "\n",
        "Para practicar el orden de las celdas, puedes utilizar las siguientes celdas como ejemplo."
      ]
    },
    {
      "cell_type": "code",
      "execution_count": 2,
      "metadata": {
        "id": "OjgcmRJPQ8s3"
      },
      "outputs": [],
      "source": [
        "a = \"mundo\"\n",
        "def hola(sujeto):\n",
        "  print(\"Hola %s\" %sujeto)"
      ]
    },
    {
      "cell_type": "code",
      "execution_count": 3,
      "metadata": {
        "colab": {
          "base_uri": "https://localhost:8080/"
        },
        "id": "v-7y3VhFQ0Z_",
        "outputId": "a88b9128-5d56-4e61-edfb-8adbadfa6252"
      },
      "outputs": [
        {
          "name": "stdout",
          "output_type": "stream",
          "text": [
            "Hola mundo\n"
          ]
        }
      ],
      "source": [
        "hola(a)\n",
        "a = \"gente\""
      ]
    },
    {
      "cell_type": "markdown",
      "metadata": {
        "id": "YH8lkJeu5CRW"
      },
      "source": [
        "`# TODO: `\n",
        "Intenta agregar una celda nueva de código y texto. Ademas intenta mover el orden y observa como afecta al cuaderno."
      ]
    },
    {
      "cell_type": "markdown",
      "metadata": {
        "id": "90EL3W0EZobh"
      },
      "source": [
        "# 4. Introducción a Python\n",
        "Estamos listos para comenzar el primer ejercicio del curso. En este ejercicio aprenderás el uso básico de el lenguaje de programación python. Además aprenderás a hacer uso de numpy para diversas operaciones con vectores, matrices y tensores.\n",
        "\n",
        "Todos los ejercicios del curso están en la forma de funciones de Python. El cuerpo de la función está dado y solo tienes que agregar el código funcional necesario. Aquí esta un ejemplo:"
      ]
    },
    {
      "cell_type": "code",
      "execution_count": null,
      "metadata": {
        "id": "QxHe_TqgZ-CJ"
      },
      "outputs": [],
      "source": [
        "def funcion_ejemplo(a):\n",
        "  # TODO\n",
        "  # Regresa a por dos\n",
        "  pass"
      ]
    },
    {
      "cell_type": "markdown",
      "metadata": {
        "id": "iYnmNl7maEKQ"
      },
      "source": [
        "En tu ejercicio entonces regresarías la operación *a por dos*. Se vería de esta forma"
      ]
    },
    {
      "cell_type": "code",
      "execution_count": null,
      "metadata": {
        "id": "DeMtbmdaaLxZ"
      },
      "outputs": [],
      "source": [
        "def funcion_ejemplo(a):\n",
        "  # TODO\n",
        "  return a*2"
      ]
    },
    {
      "cell_type": "markdown",
      "metadata": {
        "id": "HGGz7ASFaQRY"
      },
      "source": [
        "Después de escribir esta línea y correrla puedes usar la función en cualquier bloque de codigo futuro:"
      ]
    },
    {
      "cell_type": "code",
      "execution_count": null,
      "metadata": {
        "colab": {
          "base_uri": "https://localhost:8080/"
        },
        "id": "8MpPr-1_aaYn",
        "outputId": "16ed1d37-58d2-431e-f2a1-4adef1731086"
      },
      "outputs": [],
      "source": [
        "print(\"resultado de 2.5 por dos\")\n",
        "funcion_ejemplo(2.5)"
      ]
    },
    {
      "cell_type": "markdown",
      "metadata": {
        "id": "lGDPLjZE3s_w"
      },
      "source": [
        "## Variables en python\n",
        "En Python, no es necesario declarar variables. En cambio al momento de inicializar una variable, el lenguaje determina el tipo de dato en función del valor que se le asigne"
      ]
    },
    {
      "cell_type": "code",
      "execution_count": null,
      "metadata": {
        "id": "41eC8XXe3syI"
      },
      "outputs": [],
      "source": [
        "x = 1   # Esto se inicializa como int\n",
        "print(type(x))\n",
        "\n",
        "y = 1.0 # Esto se inicializa como float\n",
        "print(type(y))\n",
        "\n",
        "z = x + y # Esta variable será de tipo float ya que es más general que entero.\n",
        "print(type(z))"
      ]
    },
    {
      "cell_type": "markdown",
      "metadata": {
        "id": "nSvrwx1738zY"
      },
      "source": [
        "### Variables string"
      ]
    },
    {
      "cell_type": "code",
      "execution_count": null,
      "metadata": {
        "id": "5SKPKQMn3y3o"
      },
      "outputs": [],
      "source": [
        "s = \"hola\"  # Esta variable es string\n",
        "print(s + \" \" + str(z))  # Imprimine hola 2.0\n",
        "print(type(s))\n",
        "\n",
        "# Para concatenar valores a un string, se utiliza %d para valores enteros y %f para valores float\n",
        "print(\"Hola: x es %d, y es %f\" %(x,y)) \n",
        "\n",
        "# Para restringir definir la cantidad de caracteres se usa asi:\n",
        "print(\"Hola: x es %02d, y es %.2f\" %(x,y))\n",
        "\n",
        "# Equivalentemente se puede hacer de la siguiente manera\n",
        "print(f\"Hola: x es {x}, y es {y}\")\n",
        "print(f\"Hola: x es {x:02d}, y es {y:.2f}\")"
      ]
    },
    {
      "cell_type": "markdown",
      "metadata": {
        "id": "nh23twA-37ZQ"
      },
      "source": [
        "### Diccionarios y listas"
      ]
    },
    {
      "cell_type": "code",
      "execution_count": null,
      "metadata": {
        "id": "l0L2IDkC32jg"
      },
      "outputs": [],
      "source": [
        "# Diccionarios\n",
        "valor = 1\n",
        "d = {\"llave\": valor}\n",
        "print(d)\n",
        "print(d['llave'])\n",
        "d[\"nueva llave\"] = 5\n",
        "print(d)\n",
        "\n",
        "# En python, todos los arreglos son listas\n",
        "a = [1, 2, 3]\n",
        "print(a)\n",
        "a.extend([4, 5])\n",
        "print(a)\n",
        "a.append(6)\n",
        "print(a)"
      ]
    },
    {
      "cell_type": "markdown",
      "metadata": {
        "id": "ZfFohFoZ36CI"
      },
      "source": [
        "### For loops"
      ]
    },
    {
      "cell_type": "code",
      "execution_count": null,
      "metadata": {
        "id": "bTDjes2635sS"
      },
      "outputs": [],
      "source": [
        "# For loops\n",
        "for i in range(5):\n",
        "  print(f\"ciclo {i}\")\n",
        "\n",
        "# ordenar listas\n",
        "lista = [5, 6, 8, 1, 3, 4]\n",
        "# lista = [0] * 5\n",
        "print(lista)\n",
        "lista.sort()\n",
        "print(lista)"
      ]
    },
    {
      "attachments": {},
      "cell_type": "markdown",
      "metadata": {
        "id": "wDKnoeFR3luY"
      },
      "source": [
        "## Tu turno!\n",
        "### Ejercicio 1\n",
        "Dado un arreglo nums de tamaño n, devuelve el elemento mayoritario. El elemento mayoritario es aquel que aparece más de ⌊n / 2⌋ veces. Puedes asumir que el elemento mayoritario siempre existe en el arreglo.\n",
        "\n",
        "```\n",
        "Ejemplo 1:\n",
        "Entrada: nums = [3,2,3]\n",
        "Salida: 3\n",
        "\n",
        "Ejemplo 2:\n",
        "Entrada: nums = [2,2,1,1,1,2,2]\n",
        "Salida: 2\n",
        "```\n",
        "\n",
        "Restricciones:\n",
        "```\n",
        "n == nums.length\n",
        "1 <= n <= 5 * 10^4\n",
        "-10^9 <= nums[i] <= 10^9\n",
        "```"
      ]
    },
    {
      "cell_type": "code",
      "execution_count": 4,
      "metadata": {
        "id": "W1DQYDZy4OLd"
      },
      "outputs": [],
      "source": [
        "def elemento_mayoritario(nums: list):\n",
<<<<<<< HEAD:src/ml15/E02_intro/Intro_a_jupyter_notebook.ipynb
        "    # Contar ocurrencias\n",
        "    cuentas = {}\n",
        "    for n in nums:\n",
        "        cuentas[n] = cuentas.get(n, 0) + 1\n",
        "\n",
        "    maxCount = 0\n",
        "    mode = None\n",
        "    for num, num_count in cuentas.items():\n",
        "        if num_count > maxCount:\n",
        "            maxCount = num_count\n",
        "            mode = num\n",
        "    return mode\n"
=======
        "    # TODO: Encuentra el elemento mayoritario en nums\n",
        "    dicc = {}\n",
        "    cont = 0\n",
        "    num = 0\n",
        "    for i in (nums):\n",
        "        dicc[i] = dicc.get(i,0) + 1\n",
        "        if dicc[i] > cont:\n",
        "            cont = cont + 1\n",
        "            num = i\n",
        "    return num"
>>>>>>> bb4bfeb7e86a8357d6107833215fb697a3edd2ba:src/ml25/E02_intro/Intro_a_jupyter_notebook.ipynb
      ]
    },
    {
      "cell_type": "markdown",
      "metadata": {
        "id": "ZFubUj8r4QXG"
      },
      "source": [
        "**Prueba tu solución**"
      ]
    },
    {
      "cell_type": "code",
<<<<<<< HEAD:src/ml15/E02_intro/Intro_a_jupyter_notebook.ipynb
      "execution_count": 6,
=======
      "execution_count": 5,
>>>>>>> bb4bfeb7e86a8357d6107833215fb697a3edd2ba:src/ml25/E02_intro/Intro_a_jupyter_notebook.ipynb
      "metadata": {
        "id": "pyjINCPj4PZE"
      },
      "outputs": [
        {
          "name": "stdout",
          "output_type": "stream",
          "text": [
<<<<<<< HEAD:src/ml15/E02_intro/Intro_a_jupyter_notebook.ipynb
            "Input: [3, 2, 3]. Output esperado: 3. Output obtenido: 3\n",
            "Input: [2, 2, 1, 1, 1, 2, 2]. Output esperado: 2. Output obtenido: 2\n",
            "Input: [1]. Output esperado: 1. Output obtenido: 1\n",
            "Input: [6, 6, 6, 7, 7]. Output esperado: 6. Output obtenido: 6\n"
=======
            "Input: [1, 1, 2, 2, 2]. Output esperado: 2. Output obtenido: 2\n",
            "Input: [5, 5, 5, 5, 2, 2, 2]. Output esperado: 5. Output obtenido: 5\n",
            "Input: [-1, -1, -1, 0, 0, 2, 2]. Output esperado: -1. Output obtenido: -1\n"
>>>>>>> bb4bfeb7e86a8357d6107833215fb697a3edd2ba:src/ml25/E02_intro/Intro_a_jupyter_notebook.ipynb
          ]
        }
      ],
      "source": [
<<<<<<< HEAD:src/ml15/E02_intro/Intro_a_jupyter_notebook.ipynb
        "test_cases = [\n",
        "    {\"input\": [3, 2, 3], \"expected_output\": 3},\n",
        "    {\"input\": [2, 2, 1, 1, 1, 2, 2], \"expected_output\": 2},\n",
        "    {\"input\": [1], \"expected_output\": 1},\n",
        "    {\"input\": [6, 6, 6, 7, 7], \"expected_output\": 6},\n",
        "]\n",
=======
        "from ml25.E02_intro.tests.majority_element import test_cases\n",
>>>>>>> bb4bfeb7e86a8357d6107833215fb697a3edd2ba:src/ml25/E02_intro/Intro_a_jupyter_notebook.ipynb
        "\n",
        "for case in test_cases:\n",
        "    nums = case['input']\n",
        "    expected_output = case['expected_output']\n",
        "    output = elemento_mayoritario(nums)\n",
        "    print(f\"Input: {nums}. Output esperado: {expected_output}. Output obtenido: {output}\")\n",
        "    assert output == expected_output or (\n",
        "        not expected_output and any(output == n for n in nums)\n",
        "    ), f\"Input: {nums}. Output esperado: {expected_output}. Output obtenido: {output}\"\n"
      ]
    },
    {
      "cell_type": "markdown",
      "metadata": {},
      "source": [
        "### Ejercicio 2\n",
        "Dado una texto `msgs` y un vocabulario `vocab`, por cada mensaje `msg` regresa un vector `one_hot_msg` del mismo tamaño que `vocab` donde cada elemento del vector indiquen cuantas veces aparece la palabra `vocab[j]` en `msg`.\n",
        "\n",
        "Ejemplo:\n",
        "\n",
        "```\n",
        "vocab = ['feliz', 'perrito', 'casa', 'comida', 'semestre', 'puerta', 'vuelo']\n",
        "Entrada: msg = 'Mañana vuelo a francia'\n",
        "Salida: [0,0,0,0,0,0,1]\n",
        "Explicación: En el texto 'Mañana vuelo a francia' solo aparece la palabra en la posición 7 del vocabulario (vuelo)\n",
        "\n",
        "Entrada: 'Feliz inicio de semestre'\n",
        "Salida:[1,0,0,0,1,0,0]\n",
        "Explicación: En el texto aparecen 'feliz' y 'semestre'\n",
        "\n",
        "Entrada: 'Tengo un perrito en casa'\n",
        "Salida: [0,1,1,0,0,0,0]\n",
        "Explicación:En el texto aparecen 'perrito' y 'casa'\n",
        "```"
      ]
    },
    {
      "cell_type": "code",
<<<<<<< HEAD:src/ml15/E02_intro/Intro_a_jupyter_notebook.ipynb
      "execution_count": 7,
=======
      "execution_count": 18,
>>>>>>> bb4bfeb7e86a8357d6107833215fb697a3edd2ba:src/ml25/E02_intro/Intro_a_jupyter_notebook.ipynb
      "metadata": {},
      "outputs": [],
      "source": [
        "def one_hot_string(text: str, vocab: list):\n",
<<<<<<< HEAD:src/ml15/E02_intro/Intro_a_jupyter_notebook.ipynb
        "    text = text.lower()  # Pasar todo a minúsculas\n",
        "    words = text.split()  # Separa por espacios\n",
        "    output = []\n",
        "\n",
        "    for w in vocab:\n",
        "        output.append(words.count(w))  # cuenta cuántas veces aparece cada palabra\n",
        "    return output\n"
=======
        "    text = text.lower() # Pasar todo a minúsculas\n",
        "    ## TODO: Escribe tu solución aquí\n",
        "    # investiga cómo separar un string en python por espacios\n",
        "    lista = text.split()\n",
        "    arr = []\n",
        "    for i in vocab:\n",
        "        arr.append(lista.count(i))\n",
        "    return arr\n"
>>>>>>> bb4bfeb7e86a8357d6107833215fb697a3edd2ba:src/ml25/E02_intro/Intro_a_jupyter_notebook.ipynb
      ]
    },
    {
      "cell_type": "code",
<<<<<<< HEAD:src/ml15/E02_intro/Intro_a_jupyter_notebook.ipynb
      "execution_count": 8,
=======
      "execution_count": 19,
>>>>>>> bb4bfeb7e86a8357d6107833215fb697a3edd2ba:src/ml25/E02_intro/Intro_a_jupyter_notebook.ipynb
      "metadata": {},
      "outputs": [
        {
          "name": "stdout",
          "output_type": "stream",
          "text": [
            "vocabulario:  ['feliz', 'perrito', 'casa', 'comida', 'semestre', 'puerta', 'vuelo']\n",
            "\t Mensaje:  Mañana vuelo a francia \t Salida:  [0, 0, 0, 0, 0, 0, 1] \t Esperado:  [0, 0, 0, 0, 0, 0, 1]\n",
<<<<<<< HEAD:src/ml15/E02_intro/Intro_a_jupyter_notebook.ipynb
            "vocabulario:  ['feliz', 'perrito', 'casa', 'comida', 'semestre', 'puerta', 'vuelo']\n",
            "\t Mensaje:  Feliz inicio de semestre \t Salida:  [1, 0, 0, 0, 1, 0, 0] \t Esperado:  [1, 0, 0, 0, 1, 0, 0]\n",
            "vocabulario:  ['feliz', 'perrito', 'casa', 'comida', 'semestre', 'puerta', 'vuelo']\n",
            "\t Mensaje:  Tengo un perrito en casa \t Salida:  [0, 1, 1, 0, 0, 0, 0] \t Esperado:  [0, 1, 1, 0, 0, 0, 0]\n"
=======
            "\t Mensaje:  Feliz inicio de semestre \t Salida:  [1, 0, 0, 0, 1, 0, 0] \t Esperado:  [1, 0, 0, 0, 1, 0, 0]\n",
            "\t Mensaje:  Tengo un perrito en casa \t Salida:  [0, 1, 1, 0, 0, 0, 0] \t Esperado:  [0, 1, 1, 0, 0, 0, 0]\n",
            "vocabulario:  ['feliz', 'perrito', 'casa', 'comida', 'semestre', 'puerta', 'vuelo']\n",
            "\t Mensaje:  Hola, feliz día \t Salida:  [1, 0, 0, 0, 0, 0, 0] \t Esperado:  [1, 0, 0, 0, 0, 0, 0]\n",
            "\t Mensaje:  No tengo tiempo para la comida \t Salida:  [0, 0, 0, 1, 0, 0, 0] \t Esperado:  [0, 0, 0, 1, 0, 0, 0]\n",
            "\t Mensaje:  Mi casa tiene una puerta grande \t Salida:  [0, 0, 1, 0, 0, 1, 0] \t Esperado:  [0, 0, 1, 0, 0, 1, 0]\n",
            "vocabulario:  ['feliz', 'perrito', 'casa', 'comida', 'semestre', 'puerta', 'vuelo']\n",
            "\t Mensaje:  Esto es una prueba \t Salida:  [0, 0, 0, 0, 0, 0, 0] \t Esperado:  [0, 0, 0, 0, 0, 0, 0]\n",
            "\t Mensaje:  Otro mensaje de prueba \t Salida:  [0, 0, 0, 0, 0, 0, 0] \t Esperado:  [0, 0, 0, 0, 0, 0, 0]\n",
            "\t Mensaje:  Nada relevante aquí \t Salida:  [0, 0, 0, 0, 0, 0, 0] \t Esperado:  [0, 0, 0, 0, 0, 0, 0]\n"
>>>>>>> bb4bfeb7e86a8357d6107833215fb697a3edd2ba:src/ml25/E02_intro/Intro_a_jupyter_notebook.ipynb
          ]
        }
      ],
      "source": [
<<<<<<< HEAD:src/ml15/E02_intro/Intro_a_jupyter_notebook.ipynb
        "test_cases = [\n",
        "    {\n",
        "        \"messages\": [\"Mañana vuelo a francia\"],\n",
        "        \"vocab\": ['feliz', 'perrito', 'casa', 'comida', 'semestre', 'puerta', 'vuelo'],\n",
        "        \"expected_output\": [[0,0,0,0,0,0,1]]\n",
        "    },\n",
        "    {\n",
        "        \"messages\": [\"Feliz inicio de semestre\"],\n",
        "        \"vocab\": ['feliz', 'perrito', 'casa', 'comida', 'semestre', 'puerta', 'vuelo'],\n",
        "        \"expected_output\": [[1,0,0,0,1,0,0]]\n",
        "    },\n",
        "    {\n",
        "        \"messages\": [\"Tengo un perrito en casa\"],\n",
        "        \"vocab\": ['feliz', 'perrito', 'casa', 'comida', 'semestre', 'puerta', 'vuelo'],\n",
        "        \"expected_output\": [[0,1,1,0,0,0,0]]\n",
        "    }\n",
        "]\n",
=======
        "from ml25.E02_intro.tests.one_hot_str import test_cases\n",
        "\n",
>>>>>>> bb4bfeb7e86a8357d6107833215fb697a3edd2ba:src/ml25/E02_intro/Intro_a_jupyter_notebook.ipynb
        "\n",
        "for test in test_cases:\n",
        "    message_list = test['messages']\n",
        "    vocab = test['vocab']\n",
        "    outputs = test['expected_output']\n",
        "    print(\"vocabulario: \", vocab)\n",
        "    for i in range(len(message_list)):\n",
        "        msg = message_list[i]\n",
        "        expected_output = outputs[i]\n",
        "        salida = one_hot_string(msg, vocab)\n",
        "        print(\"\\t Mensaje: \", msg, \"\\t Salida: \", salida, \"\\t Esperado: \", expected_output)\n",
        "        assert salida == expected_output, \"Tu solución es incorrecta\"\n"
      ]
    },
    {
      "cell_type": "markdown",
      "metadata": {
        "id": "g-ySoAQW3VQw"
      },
      "source": [
        "# 4. Graficar datos usando matplotlib\n",
        "\n",
        "Una ventaja muy grande de este cuaderno, es que puedes graficar directamente usando matplotlib.\n",
        "\n",
        "**NOTA: Para activar esta función neesitas agregar el siguiente comando *mágico***\n",
        "\n",
        "*-> Ejecuta las siguientes celdas*"
      ]
    },
    {
      "cell_type": "code",
      "execution_count": 16,
      "metadata": {
        "id": "s0fja5Kw3TTg"
      },
      "outputs": [],
      "source": [
        "%matplotlib inline"
      ]
    },
    {
      "cell_type": "markdown",
      "metadata": {
        "id": "74flHjRA3X_4"
      },
      "source": [
        "Ejemplo:"
      ]
    },
    {
      "cell_type": "code",
<<<<<<< HEAD:src/ml15/E02_intro/Intro_a_jupyter_notebook.ipynb
      "execution_count": 7,
=======
      "execution_count": 17,
>>>>>>> bb4bfeb7e86a8357d6107833215fb697a3edd2ba:src/ml25/E02_intro/Intro_a_jupyter_notebook.ipynb
      "metadata": {
        "id": "Rpul7RwO3ahJ"
      },
      "outputs": [
        {
          "data": {
            "text/plain": [
<<<<<<< HEAD:src/ml15/E02_intro/Intro_a_jupyter_notebook.ipynb
              "<matplotlib.collections.PathCollection at 0x2af88c70910>"
            ]
          },
          "execution_count": 7,
=======
              "<matplotlib.collections.PathCollection at 0x20b7f686010>"
            ]
          },
          "execution_count": 17,
>>>>>>> bb4bfeb7e86a8357d6107833215fb697a3edd2ba:src/ml25/E02_intro/Intro_a_jupyter_notebook.ipynb
          "metadata": {},
          "output_type": "execute_result"
        },
        {
          "data": {
<<<<<<< HEAD:src/ml15/E02_intro/Intro_a_jupyter_notebook.ipynb
            "image/png": "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",
=======
            "image/png": "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",
>>>>>>> bb4bfeb7e86a8357d6107833215fb697a3edd2ba:src/ml25/E02_intro/Intro_a_jupyter_notebook.ipynb
            "text/plain": [
              "<Figure size 640x480 with 1 Axes>"
            ]
          },
          "metadata": {},
          "output_type": "display_data"
        }
      ],
      "source": [
        "import matplotlib.pyplot as plt\n",
        "import numpy as np\n",
        "\n",
        "x = np.random.randn(100, 1)\n",
        "y = np.random.randn(100, 1)\n",
        "\n",
        "c = np.random.uniform(size = (100, 1))\n",
        "plt.scatter(x, y)"
      ]
    }
  ],
  "metadata": {
    "colab": {
      "provenance": []
    },
    "kernelspec": {
<<<<<<< HEAD:src/ml15/E02_intro/Intro_a_jupyter_notebook.ipynb
      "display_name": "base",
=======
      "display_name": "mlenv",
>>>>>>> bb4bfeb7e86a8357d6107833215fb697a3edd2ba:src/ml25/E02_intro/Intro_a_jupyter_notebook.ipynb
      "language": "python",
      "name": "python3"
    },
    "language_info": {
      "codemirror_mode": {
        "name": "ipython",
        "version": 3
      },
      "file_extension": ".py",
      "mimetype": "text/x-python",
      "name": "python",
      "nbconvert_exporter": "python",
      "pygments_lexer": "ipython3",
<<<<<<< HEAD:src/ml15/E02_intro/Intro_a_jupyter_notebook.ipynb
      "version": "3.13.5"
=======
      "version": "3.11.13"
>>>>>>> bb4bfeb7e86a8357d6107833215fb697a3edd2ba:src/ml25/E02_intro/Intro_a_jupyter_notebook.ipynb
    }
  },
  "nbformat": 4,
  "nbformat_minor": 0
}
